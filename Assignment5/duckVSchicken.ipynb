{
 "cells": [
  {
   "cell_type": "markdown",
   "id": "bad3f622",
   "metadata": {},
   "source": [
    "# Submission by ATUL ANANT~MDS202314"
   ]
  },
  {
   "cell_type": "markdown",
   "id": "6c4d03b2",
   "metadata": {},
   "source": [
    "### Importing important packages and libraries"
   ]
  },
  {
   "cell_type": "code",
   "execution_count": null,
   "id": "151cebc6",
   "metadata": {},
   "outputs": [
    {
     "data": {
      "text/plain": [
       "device(type='cuda')"
      ]
     },
     "execution_count": 1,
     "metadata": {},
     "output_type": "execute_result"
    }
   ],
   "source": [
    "import os\n",
    "import shutil\n",
    "from glob import glob\n",
    "import random\n",
    "from pathlib import Path\n",
    "import torch\n",
    "from torchvision import datasets, transforms, models\n",
    "from torch.utils.data import DataLoader\n",
    "from torchsummary import summary\n",
    "import torch.nn as nn\n",
    "import torch.optim as optim\n",
    "from tqdm import tqdm\n",
    "import matplotlib.pyplot as plt\n",
    "from sklearn.metrics import classification_report\n",
    "device = torch.device(\"cuda\" if torch.cuda.is_available() else \"cpu\")"
   ]
  },
  {
   "cell_type": "markdown",
   "id": "4b175017",
   "metadata": {},
   "source": [
    "## Adding classes and root directories"
   ]
  },
  {
   "cell_type": "code",
   "execution_count": null,
   "id": "d2a6fad3",
   "metadata": {},
   "outputs": [],
   "source": [
    "from pathlib import Path\n",
    "from itertools import product\n",
    "\n",
    "[Path(f\"dataset/{split}/{cls}\").mkdir(parents=True, exist_ok=True) for split, cls in product([\"train\", \"val\", \"test\"], [\"chicken\", \"duck\"])]\n"
   ]
  },
  {
   "cell_type": "code",
   "execution_count": null,
   "id": "5d00c5d9",
   "metadata": {},
   "outputs": [
    {
     "name": "stderr",
     "output_type": "stream",
     "text": [
      "<>:2: SyntaxWarning: invalid escape sequence '\\A'\n",
      "<>:3: SyntaxWarning: invalid escape sequence '\\A'\n",
      "<>:2: SyntaxWarning: invalid escape sequence '\\A'\n",
      "<>:3: SyntaxWarning: invalid escape sequence '\\A'\n",
      "C:\\Users\\lalsa\\AppData\\Local\\Temp\\ipykernel_28636\\2588893052.py:2: SyntaxWarning: invalid escape sequence '\\A'\n",
      "  duck_images = glob('D:\\aml_final\\Assignment5\\dataset\\chicken')\n",
      "C:\\Users\\lalsa\\AppData\\Local\\Temp\\ipykernel_28636\\2588893052.py:3: SyntaxWarning: invalid escape sequence '\\A'\n",
      "  chicken_images = glob('D:\\aml_final\\Assignment5\\dataset\\duck')\n"
     ]
    }
   ],
   "source": [
    "images = {\n",
    "    'chicken': glob(r'D:\\aml_final\\Assignment5\\dataset\\chicken\\*.*'),\n",
    "    'duck': glob(r'D:\\aml_final\\Assignment5\\dataset\\duck\\*.*')\n",
    "}\n",
    "for cls in images:\n",
    "    random.shuffle(images[cls])"
   ]
  },
  {
   "cell_type": "markdown",
   "id": "3c889ff5",
   "metadata": {},
   "source": [
    "### Custom dataloader definitions for better reading of data"
   ]
  },
  {
   "cell_type": "code",
   "execution_count": null,
   "id": "747f9a05",
   "metadata": {},
   "outputs": [
    {
     "name": "stdout",
     "output_type": "stream",
     "text": [
      "[train] Total images collected: 275\n",
      "[val] Total images collected: 161\n",
      "[test] Total images collected: 482\n",
      "Loaded ResNet-18 for 5 classes: ['chicken', 'duck', 'test', 'train', 'val']\n",
      "Model ready and moved to: cuda\n",
      "Sample batch shape: torch.Size([32, 3, 224, 224]), Labels: tensor([0, 0, 0, 0, 0, 0, 0, 0, 0, 0, 0, 0, 0, 0, 0, 0, 0, 0, 0, 0, 0, 0, 0, 0,\n",
      "        0, 0, 0, 0, 0, 0, 0, 0])\n"
     ]
    }
   ],
   "source": [
    "import os\n",
    "import torch\n",
    "import torch.nn as nn\n",
    "from torch.utils.data import Dataset, DataLoader\n",
    "from torchvision import transforms, models\n",
    "from torchvision.models import ResNet18_Weights\n",
    "from PIL import Image\n",
    "\n",
    "# -------------------- Custom Dataset --------------------\n",
    "class CustomImageDataset(Dataset):\n",
    "    def __init__(self, image_label_pairs, transform=None, classes=None):\n",
    "        self.image_label_pairs = image_label_pairs\n",
    "        self.transform = transform\n",
    "        self.classes = classes\n",
    "\n",
    "    def __len__(self):\n",
    "        return len(self.image_label_pairs)\n",
    "\n",
    "    def __getitem__(self, idx):\n",
    "        image_path, label = self.image_label_pairs[idx]\n",
    "        try:\n",
    "            image = Image.open(image_path).convert(\"RGB\")\n",
    "            if self.transform:\n",
    "                image = self.transform(image)\n",
    "            return image, label\n",
    "        except Exception as e:\n",
    "            print(f\"Error loading image: {image_path}, skipping. Reason: {e}\")\n",
    "            return self.__getitem__((idx + 1) % len(self.image_label_pairs))\n",
    "\n",
    "# -------------------- Dataloader Setup --------------------\n",
    "def main_loaders(data_dir, batch_size=32, img_size=(224, 224), num_workers=0):\n",
    "    transform = transforms.Compose([\n",
    "        transforms.Resize(img_size),\n",
    "        transforms.ToTensor(),\n",
    "        transforms.Normalize(mean=[0.5, 0.5, 0.5], std=[0.5, 0.5, 0.5])\n",
    "    ])\n",
    "\n",
    "    splits = ['train', 'val', 'test']\n",
    "    class_names = sorted(os.listdir(data_dir))\n",
    "    class_to_idx = {cls_name: idx for idx, cls_name in enumerate(class_names)}\n",
    "    dataloaders = {}\n",
    "\n",
    "    for split in splits:\n",
    "        image_label_pairs = []\n",
    "        for cls_name in class_names:\n",
    "            split_path = os.path.join(data_dir, cls_name, split)\n",
    "            if not os.path.isdir(split_path):\n",
    "                continue\n",
    "            for fname in os.listdir(split_path):\n",
    "                if fname.lower().endswith(('.png', '.jpg', '.jpeg', '.bmp', '.gif')):\n",
    "                    img_path = os.path.join(split_path, fname)\n",
    "                    label = class_to_idx[cls_name]\n",
    "                    image_label_pairs.append((img_path, label))\n",
    "\n",
    "        print(f\"[{split}] Total images collected: {len(image_label_pairs)}\")\n",
    "\n",
    "        dataset = CustomImageDataset(\n",
    "            image_label_pairs=image_label_pairs,\n",
    "            transform=transform,\n",
    "            classes=class_names\n",
    "        )\n",
    "\n",
    "        dataloaders[split] = DataLoader(\n",
    "            dataset,\n",
    "            batch_size=batch_size,\n",
    "            shuffle=(split == 'train'),\n",
    "            num_workers=num_workers\n",
    "        )\n",
    "\n",
    "    return dataloaders, class_names\n",
    "\n",
    "# -------------------- Main Execution --------------------\n",
    "if __name__ == \"__main__\":\n",
    "    # Use raw string or forward slashes to avoid escape sequence issues\n",
    "    data_dir = r\"D:\\aml_final\\Assignment5\\dataset\"\n",
    "\n",
    "    # Set device\n",
    "    device = torch.device(\"cuda\" if torch.cuda.is_available() else \"cpu\")\n",
    "\n",
    "    dataloaders, class_names = main_loaders(data_dir, batch_size=32, num_workers=0)\n",
    "\n",
    "    num_classes = len(class_names)\n",
    "\n",
    "    # Load Pretrained ResNet-18\n",
    "    model = models.resnet18(weights=ResNet18_Weights.DEFAULT)\n",
    "\n",
    "    # Modify the final FC layer\n",
    "    model.fc = nn.Linear(model.fc.in_features, num_classes)\n",
    "    model = model.to(device)\n",
    "\n",
    "    # Confirm setup\n",
    "    print(f\"Loaded ResNet-18 for {num_classes} classes: {class_names}\")\n",
    "    print(\"Model ready and moved to:\", device)\n",
    "\n",
    "    # Optional: Test one batch\n",
    "    sample_batch = next(iter(dataloaders['train']))\n",
    "    images, labels = sample_batch\n",
    "    print(f\"Sample batch shape: {images.shape}, Labels: {labels}\")\n"
   ]
  },
  {
   "cell_type": "code",
   "execution_count": null,
   "id": "936fd7be",
   "metadata": {},
   "outputs": [
    {
     "name": "stdout",
     "output_type": "stream",
     "text": [
      "[train] Total images collected: 275\n",
      "[val] Total images collected: 161\n",
      "[test] Total images collected: 482\n"
     ]
    }
   ],
   "source": [
    "data_dir = r\"D:\\aml_final\\Assignment5\\dataset\"\n",
    "dataloaders = main_loaders(data_dir, batch_size=32, num_workers=0)\n"
   ]
  },
  {
   "cell_type": "code",
   "execution_count": null,
   "id": "27919375",
   "metadata": {},
   "outputs": [
    {
     "name": "stdout",
     "output_type": "stream",
     "text": [
      "[train] Total images collected: 275\n",
      "[val] Total images collected: 161\n",
      "[test] Total images collected: 482\n"
     ]
    },
    {
     "name": "stderr",
     "output_type": "stream",
     "text": [
      "c:\\Users\\lalsa\\AppData\\Local\\Programs\\Python\\Python312\\Lib\\site-packages\\torchvision\\models\\_utils.py:208: UserWarning: The parameter 'pretrained' is deprecated since 0.13 and may be removed in the future, please use 'weights' instead.\n",
      "  warnings.warn(\n",
      "c:\\Users\\lalsa\\AppData\\Local\\Programs\\Python\\Python312\\Lib\\site-packages\\torchvision\\models\\_utils.py:223: UserWarning: Arguments other than a weight enum or `None` for 'weights' are deprecated since 0.13 and may be removed in the future. The current behavior is equivalent to passing `weights=ResNet18_Weights.IMAGENET1K_V1`. You can also use `weights=ResNet18_Weights.DEFAULT` to get the most up-to-date weights.\n",
      "  warnings.warn(msg)\n"
     ]
    }
   ],
   "source": [
    "_,  class_names = main_loaders(data_dir, batch_size=32, num_workers=0)\n",
    "\n",
    "num_classes = len(class_names)\n",
    "\n",
    "# Load Pretrained ResNet-18 Model\n",
    "model = models.resnet18(pretrained=True)\n",
    "\n",
    "# Move model to GPU if available\n",
    "model = model.to(device)\n",
    "\n",
    "# Modify the last fully connected layer for custom classification\n",
    "model.fc = nn.Linear(model.fc.in_features, num_classes)"
   ]
  },
  {
   "cell_type": "code",
   "execution_count": 8,
   "id": "5bb0848e",
   "metadata": {},
   "outputs": [],
   "source": [
    "# Setting all layers as not trainable except last 3 layers\n",
    "for layer in list(model.parameters())[:-3]:\n",
    "    layer.requires_grad = False"
   ]
  },
  {
   "cell_type": "code",
   "execution_count": 9,
   "id": "0f7fa601",
   "metadata": {},
   "outputs": [
    {
     "name": "stdout",
     "output_type": "stream",
     "text": [
      "----------------------------------------------------------------\n",
      "        Layer (type)               Output Shape         Param #\n",
      "================================================================\n",
      "            Conv2d-1         [-1, 64, 122, 122]           9,408\n",
      "       BatchNorm2d-2         [-1, 64, 122, 122]             128\n",
      "              ReLU-3         [-1, 64, 122, 122]               0\n",
      "         MaxPool2d-4           [-1, 64, 61, 61]               0\n",
      "            Conv2d-5           [-1, 64, 61, 61]          36,864\n",
      "       BatchNorm2d-6           [-1, 64, 61, 61]             128\n",
      "              ReLU-7           [-1, 64, 61, 61]               0\n",
      "            Conv2d-8           [-1, 64, 61, 61]          36,864\n",
      "       BatchNorm2d-9           [-1, 64, 61, 61]             128\n",
      "             ReLU-10           [-1, 64, 61, 61]               0\n",
      "       BasicBlock-11           [-1, 64, 61, 61]               0\n",
      "           Conv2d-12           [-1, 64, 61, 61]          36,864\n",
      "      BatchNorm2d-13           [-1, 64, 61, 61]             128\n",
      "             ReLU-14           [-1, 64, 61, 61]               0\n",
      "           Conv2d-15           [-1, 64, 61, 61]          36,864\n",
      "      BatchNorm2d-16           [-1, 64, 61, 61]             128\n",
      "             ReLU-17           [-1, 64, 61, 61]               0\n",
      "       BasicBlock-18           [-1, 64, 61, 61]               0\n",
      "           Conv2d-19          [-1, 128, 31, 31]          73,728\n",
      "      BatchNorm2d-20          [-1, 128, 31, 31]             256\n",
      "             ReLU-21          [-1, 128, 31, 31]               0\n",
      "           Conv2d-22          [-1, 128, 31, 31]         147,456\n",
      "      BatchNorm2d-23          [-1, 128, 31, 31]             256\n",
      "           Conv2d-24          [-1, 128, 31, 31]           8,192\n",
      "      BatchNorm2d-25          [-1, 128, 31, 31]             256\n",
      "             ReLU-26          [-1, 128, 31, 31]               0\n",
      "       BasicBlock-27          [-1, 128, 31, 31]               0\n",
      "           Conv2d-28          [-1, 128, 31, 31]         147,456\n",
      "      BatchNorm2d-29          [-1, 128, 31, 31]             256\n",
      "             ReLU-30          [-1, 128, 31, 31]               0\n",
      "           Conv2d-31          [-1, 128, 31, 31]         147,456\n",
      "      BatchNorm2d-32          [-1, 128, 31, 31]             256\n",
      "             ReLU-33          [-1, 128, 31, 31]               0\n",
      "       BasicBlock-34          [-1, 128, 31, 31]               0\n",
      "           Conv2d-35          [-1, 256, 16, 16]         294,912\n",
      "      BatchNorm2d-36          [-1, 256, 16, 16]             512\n",
      "             ReLU-37          [-1, 256, 16, 16]               0\n",
      "           Conv2d-38          [-1, 256, 16, 16]         589,824\n",
      "      BatchNorm2d-39          [-1, 256, 16, 16]             512\n",
      "           Conv2d-40          [-1, 256, 16, 16]          32,768\n",
      "      BatchNorm2d-41          [-1, 256, 16, 16]             512\n",
      "             ReLU-42          [-1, 256, 16, 16]               0\n",
      "       BasicBlock-43          [-1, 256, 16, 16]               0\n",
      "           Conv2d-44          [-1, 256, 16, 16]         589,824\n",
      "      BatchNorm2d-45          [-1, 256, 16, 16]             512\n",
      "             ReLU-46          [-1, 256, 16, 16]               0\n",
      "           Conv2d-47          [-1, 256, 16, 16]         589,824\n",
      "      BatchNorm2d-48          [-1, 256, 16, 16]             512\n",
      "             ReLU-49          [-1, 256, 16, 16]               0\n",
      "       BasicBlock-50          [-1, 256, 16, 16]               0\n",
      "           Conv2d-51            [-1, 512, 8, 8]       1,179,648\n",
      "      BatchNorm2d-52            [-1, 512, 8, 8]           1,024\n",
      "             ReLU-53            [-1, 512, 8, 8]               0\n",
      "           Conv2d-54            [-1, 512, 8, 8]       2,359,296\n",
      "      BatchNorm2d-55            [-1, 512, 8, 8]           1,024\n",
      "           Conv2d-56            [-1, 512, 8, 8]         131,072\n",
      "      BatchNorm2d-57            [-1, 512, 8, 8]           1,024\n",
      "             ReLU-58            [-1, 512, 8, 8]               0\n",
      "       BasicBlock-59            [-1, 512, 8, 8]               0\n",
      "           Conv2d-60            [-1, 512, 8, 8]       2,359,296\n",
      "      BatchNorm2d-61            [-1, 512, 8, 8]           1,024\n",
      "             ReLU-62            [-1, 512, 8, 8]               0\n",
      "           Conv2d-63            [-1, 512, 8, 8]       2,359,296\n",
      "      BatchNorm2d-64            [-1, 512, 8, 8]           1,024\n",
      "             ReLU-65            [-1, 512, 8, 8]               0\n",
      "       BasicBlock-66            [-1, 512, 8, 8]               0\n",
      "AdaptiveAvgPool2d-67            [-1, 512, 1, 1]               0\n",
      "           Linear-68                    [-1, 5]           2,565\n",
      "================================================================\n",
      "Total params: 11,179,077\n",
      "Trainable params: 2,565\n",
      "Non-trainable params: 11,176,512\n",
      "----------------------------------------------------------------\n",
      "Input size (MB): 0.68\n",
      "Forward/backward pass size (MB): 76.08\n",
      "Params size (MB): 42.64\n",
      "Estimated Total Size (MB): 119.40\n",
      "----------------------------------------------------------------\n"
     ]
    }
   ],
   "source": [
    "# Printing summary\n",
    "summary(model.to(device), (3, 244, 244))"
   ]
  },
  {
   "cell_type": "markdown",
   "id": "5f9eba6b",
   "metadata": {},
   "source": [
    "### Model training"
   ]
  },
  {
   "cell_type": "code",
   "execution_count": null,
   "id": "0172f448",
   "metadata": {},
   "outputs": [
    {
     "name": "stdout",
     "output_type": "stream",
     "text": [
      "[train] Total images collected: 275\n",
      "[val] Total images collected: 161\n",
      "[test] Total images collected: 482\n",
      "\n",
      "Epoch 1/20\n"
     ]
    },
    {
     "name": "stderr",
     "output_type": "stream",
     "text": [
      "train Epoch 1: 100%|██████████| 9/9 [00:01<00:00,  4.85it/s, loss=1.33]\n"
     ]
    },
    {
     "name": "stdout",
     "output_type": "stream",
     "text": [
      "Train Loss: 1.4075 | Accuracy: 51.64%\n",
      "Model saved to D:\\aml_final\\Assignment5\\model_pth\\resnet18_model.pth\n"
     ]
    },
    {
     "name": "stderr",
     "output_type": "stream",
     "text": [
      "val Epoch 1: 100%|██████████| 6/6 [00:00<00:00, 12.11it/s, loss=1.61]\n"
     ]
    },
    {
     "name": "stdout",
     "output_type": "stream",
     "text": [
      "Val Loss: 1.5237 | Accuracy: 15.53%\n",
      "Model saved to D:\\aml_final\\Assignment5\\model_pth\\resnet18_model.pth\n",
      "\n",
      "Epoch 2/20\n"
     ]
    },
    {
     "name": "stderr",
     "output_type": "stream",
     "text": [
      "train Epoch 2: 100%|██████████| 9/9 [00:01<00:00,  6.74it/s, loss=1.18]\n"
     ]
    },
    {
     "name": "stdout",
     "output_type": "stream",
     "text": [
      "Train Loss: 1.2270 | Accuracy: 96.00%\n",
      "Model saved to D:\\aml_final\\Assignment5\\model_pth\\resnet18_model.pth\n"
     ]
    },
    {
     "name": "stderr",
     "output_type": "stream",
     "text": [
      "val Epoch 2: 100%|██████████| 6/6 [00:00<00:00, 13.77it/s, loss=1.49]\n"
     ]
    },
    {
     "name": "stdout",
     "output_type": "stream",
     "text": [
      "Val Loss: 1.4258 | Accuracy: 36.65%\n",
      "Model saved to D:\\aml_final\\Assignment5\\model_pth\\resnet18_model.pth\n",
      "\n",
      "Epoch 3/20\n"
     ]
    },
    {
     "name": "stderr",
     "output_type": "stream",
     "text": [
      "train Epoch 3: 100%|██████████| 9/9 [00:01<00:00,  6.77it/s, loss=0.992]\n"
     ]
    },
    {
     "name": "stdout",
     "output_type": "stream",
     "text": [
      "Train Loss: 1.0639 | Accuracy: 100.00%\n",
      "Model saved to D:\\aml_final\\Assignment5\\model_pth\\resnet18_model.pth\n"
     ]
    },
    {
     "name": "stderr",
     "output_type": "stream",
     "text": [
      "val Epoch 3: 100%|██████████| 6/6 [00:00<00:00, 14.07it/s, loss=1.62]\n"
     ]
    },
    {
     "name": "stdout",
     "output_type": "stream",
     "text": [
      "Val Loss: 1.4210 | Accuracy: 32.30%\n",
      "Model saved to D:\\aml_final\\Assignment5\\model_pth\\resnet18_model.pth\n",
      "\n",
      "Epoch 4/20\n"
     ]
    },
    {
     "name": "stderr",
     "output_type": "stream",
     "text": [
      "train Epoch 4: 100%|██████████| 9/9 [00:01<00:00,  6.21it/s, loss=0.823]\n"
     ]
    },
    {
     "name": "stdout",
     "output_type": "stream",
     "text": [
      "Train Loss: 0.9077 | Accuracy: 100.00%\n",
      "Model saved to D:\\aml_final\\Assignment5\\model_pth\\resnet18_model.pth\n"
     ]
    },
    {
     "name": "stderr",
     "output_type": "stream",
     "text": [
      "val Epoch 4: 100%|██████████| 6/6 [00:00<00:00, 10.17it/s, loss=1.8]  \n"
     ]
    },
    {
     "name": "stdout",
     "output_type": "stream",
     "text": [
      "Val Loss: 1.4626 | Accuracy: 32.30%\n",
      "Model saved to D:\\aml_final\\Assignment5\\model_pth\\resnet18_model.pth\n",
      "\n",
      "Epoch 5/20\n"
     ]
    },
    {
     "name": "stderr",
     "output_type": "stream",
     "text": [
      "train Epoch 5: 100%|██████████| 9/9 [00:01<00:00,  6.18it/s, loss=0.711]\n"
     ]
    },
    {
     "name": "stdout",
     "output_type": "stream",
     "text": [
      "Train Loss: 0.7623 | Accuracy: 100.00%\n",
      "Model saved to D:\\aml_final\\Assignment5\\model_pth\\resnet18_model.pth\n"
     ]
    },
    {
     "name": "stderr",
     "output_type": "stream",
     "text": [
      "val Epoch 5: 100%|██████████| 6/6 [00:00<00:00, 10.04it/s, loss=1.95] \n"
     ]
    },
    {
     "name": "stdout",
     "output_type": "stream",
     "text": [
      "Val Loss: 1.5245 | Accuracy: 32.30%\n",
      "Model saved to D:\\aml_final\\Assignment5\\model_pth\\resnet18_model.pth\n",
      "\n",
      "Epoch 6/20\n"
     ]
    },
    {
     "name": "stderr",
     "output_type": "stream",
     "text": [
      "train Epoch 6: 100%|██████████| 9/9 [00:01<00:00,  6.38it/s, loss=0.587]\n"
     ]
    },
    {
     "name": "stdout",
     "output_type": "stream",
     "text": [
      "Train Loss: 0.6312 | Accuracy: 100.00%\n",
      "Model saved to D:\\aml_final\\Assignment5\\model_pth\\resnet18_model.pth\n"
     ]
    },
    {
     "name": "stderr",
     "output_type": "stream",
     "text": [
      "val Epoch 6: 100%|██████████| 6/6 [00:00<00:00, 11.21it/s, loss=2.05] \n"
     ]
    },
    {
     "name": "stdout",
     "output_type": "stream",
     "text": [
      "Val Loss: 1.6057 | Accuracy: 32.30%\n",
      "Model saved to D:\\aml_final\\Assignment5\\model_pth\\resnet18_model.pth\n",
      "\n",
      "Epoch 7/20\n"
     ]
    },
    {
     "name": "stderr",
     "output_type": "stream",
     "text": [
      "train Epoch 7: 100%|██████████| 9/9 [00:01<00:00,  6.15it/s, loss=0.468]\n"
     ]
    },
    {
     "name": "stdout",
     "output_type": "stream",
     "text": [
      "Train Loss: 0.5158 | Accuracy: 100.00%\n",
      "Model saved to D:\\aml_final\\Assignment5\\model_pth\\resnet18_model.pth\n"
     ]
    },
    {
     "name": "stderr",
     "output_type": "stream",
     "text": [
      "val Epoch 7: 100%|██████████| 6/6 [00:00<00:00, 10.01it/s, loss=2.2]  \n"
     ]
    },
    {
     "name": "stdout",
     "output_type": "stream",
     "text": [
      "Val Loss: 1.6757 | Accuracy: 32.30%\n",
      "Model saved to D:\\aml_final\\Assignment5\\model_pth\\resnet18_model.pth\n",
      "\n",
      "Epoch 8/20\n"
     ]
    },
    {
     "name": "stderr",
     "output_type": "stream",
     "text": [
      "train Epoch 8: 100%|██████████| 9/9 [00:01<00:00,  6.31it/s, loss=0.379]\n"
     ]
    },
    {
     "name": "stdout",
     "output_type": "stream",
     "text": [
      "Train Loss: 0.4233 | Accuracy: 100.00%\n",
      "Model saved to D:\\aml_final\\Assignment5\\model_pth\\resnet18_model.pth\n"
     ]
    },
    {
     "name": "stderr",
     "output_type": "stream",
     "text": [
      "val Epoch 8: 100%|██████████| 6/6 [00:00<00:00, 10.82it/s, loss=2.34] \n"
     ]
    },
    {
     "name": "stdout",
     "output_type": "stream",
     "text": [
      "Val Loss: 1.6932 | Accuracy: 32.30%\n",
      "Model saved to D:\\aml_final\\Assignment5\\model_pth\\resnet18_model.pth\n",
      "\n",
      "Epoch 9/20\n"
     ]
    },
    {
     "name": "stderr",
     "output_type": "stream",
     "text": [
      "train Epoch 9: 100%|██████████| 9/9 [00:01<00:00,  6.28it/s, loss=0.331]\n"
     ]
    },
    {
     "name": "stdout",
     "output_type": "stream",
     "text": [
      "Train Loss: 0.3514 | Accuracy: 100.00%\n",
      "Model saved to D:\\aml_final\\Assignment5\\model_pth\\resnet18_model.pth\n"
     ]
    },
    {
     "name": "stderr",
     "output_type": "stream",
     "text": [
      "val Epoch 9: 100%|██████████| 6/6 [00:00<00:00, 10.87it/s, loss=2.53] \n"
     ]
    },
    {
     "name": "stdout",
     "output_type": "stream",
     "text": [
      "Val Loss: 1.7926 | Accuracy: 32.30%\n",
      "Model saved to D:\\aml_final\\Assignment5\\model_pth\\resnet18_model.pth\n",
      "\n",
      "Epoch 10/20\n"
     ]
    },
    {
     "name": "stderr",
     "output_type": "stream",
     "text": [
      "train Epoch 10: 100%|██████████| 9/9 [00:01<00:00,  6.16it/s, loss=0.278]\n"
     ]
    },
    {
     "name": "stdout",
     "output_type": "stream",
     "text": [
      "Train Loss: 0.2959 | Accuracy: 100.00%\n",
      "Model saved to D:\\aml_final\\Assignment5\\model_pth\\resnet18_model.pth\n"
     ]
    },
    {
     "name": "stderr",
     "output_type": "stream",
     "text": [
      "val Epoch 10: 100%|██████████| 6/6 [00:00<00:00, 10.93it/s, loss=2.73] \n"
     ]
    },
    {
     "name": "stdout",
     "output_type": "stream",
     "text": [
      "Val Loss: 1.9331 | Accuracy: 32.30%\n",
      "Model saved to D:\\aml_final\\Assignment5\\model_pth\\resnet18_model.pth\n",
      "\n",
      "Epoch 11/20\n"
     ]
    },
    {
     "name": "stderr",
     "output_type": "stream",
     "text": [
      "train Epoch 11: 100%|██████████| 9/9 [00:01<00:00,  6.33it/s, loss=0.249]\n"
     ]
    },
    {
     "name": "stdout",
     "output_type": "stream",
     "text": [
      "Train Loss: 0.2526 | Accuracy: 100.00%\n",
      "Model saved to D:\\aml_final\\Assignment5\\model_pth\\resnet18_model.pth\n"
     ]
    },
    {
     "name": "stderr",
     "output_type": "stream",
     "text": [
      "val Epoch 11: 100%|██████████| 6/6 [00:00<00:00, 10.91it/s, loss=2.86] \n"
     ]
    },
    {
     "name": "stdout",
     "output_type": "stream",
     "text": [
      "Val Loss: 1.9747 | Accuracy: 32.30%\n",
      "Model saved to D:\\aml_final\\Assignment5\\model_pth\\resnet18_model.pth\n",
      "\n",
      "Epoch 12/20\n"
     ]
    },
    {
     "name": "stderr",
     "output_type": "stream",
     "text": [
      "train Epoch 12: 100%|██████████| 9/9 [00:01<00:00,  6.25it/s, loss=0.22] \n"
     ]
    },
    {
     "name": "stdout",
     "output_type": "stream",
     "text": [
      "Train Loss: 0.2170 | Accuracy: 100.00%\n",
      "Model saved to D:\\aml_final\\Assignment5\\model_pth\\resnet18_model.pth\n"
     ]
    },
    {
     "name": "stderr",
     "output_type": "stream",
     "text": [
      "val Epoch 12: 100%|██████████| 6/6 [00:00<00:00, 10.18it/s, loss=3.02] \n"
     ]
    },
    {
     "name": "stdout",
     "output_type": "stream",
     "text": [
      "Val Loss: 2.0717 | Accuracy: 32.30%\n",
      "Model saved to D:\\aml_final\\Assignment5\\model_pth\\resnet18_model.pth\n",
      "\n",
      "Epoch 13/20\n"
     ]
    },
    {
     "name": "stderr",
     "output_type": "stream",
     "text": [
      "train Epoch 13: 100%|██████████| 9/9 [00:01<00:00,  6.38it/s, loss=0.2]  \n"
     ]
    },
    {
     "name": "stdout",
     "output_type": "stream",
     "text": [
      "Train Loss: 0.1864 | Accuracy: 100.00%\n",
      "Model saved to D:\\aml_final\\Assignment5\\model_pth\\resnet18_model.pth\n"
     ]
    },
    {
     "name": "stderr",
     "output_type": "stream",
     "text": [
      "val Epoch 13: 100%|██████████| 6/6 [00:00<00:00,  9.60it/s, loss=3.2]  \n"
     ]
    },
    {
     "name": "stdout",
     "output_type": "stream",
     "text": [
      "Val Loss: 2.1613 | Accuracy: 32.30%\n",
      "Model saved to D:\\aml_final\\Assignment5\\model_pth\\resnet18_model.pth\n",
      "\n",
      "Epoch 14/20\n"
     ]
    },
    {
     "name": "stderr",
     "output_type": "stream",
     "text": [
      "train Epoch 14: 100%|██████████| 9/9 [00:01<00:00,  6.36it/s, loss=0.134]\n"
     ]
    },
    {
     "name": "stdout",
     "output_type": "stream",
     "text": [
      "Train Loss: 0.1675 | Accuracy: 100.00%\n",
      "Model saved to D:\\aml_final\\Assignment5\\model_pth\\resnet18_model.pth\n"
     ]
    },
    {
     "name": "stderr",
     "output_type": "stream",
     "text": [
      "val Epoch 14: 100%|██████████| 6/6 [00:00<00:00, 10.72it/s, loss=3.33] \n"
     ]
    },
    {
     "name": "stdout",
     "output_type": "stream",
     "text": [
      "Val Loss: 2.2382 | Accuracy: 32.30%\n",
      "Model saved to D:\\aml_final\\Assignment5\\model_pth\\resnet18_model.pth\n",
      "\n",
      "Epoch 15/20\n"
     ]
    },
    {
     "name": "stderr",
     "output_type": "stream",
     "text": [
      "train Epoch 15: 100%|██████████| 9/9 [00:01<00:00,  6.18it/s, loss=0.14] \n"
     ]
    },
    {
     "name": "stdout",
     "output_type": "stream",
     "text": [
      "Train Loss: 0.1486 | Accuracy: 100.00%\n",
      "Model saved to D:\\aml_final\\Assignment5\\model_pth\\resnet18_model.pth\n"
     ]
    },
    {
     "name": "stderr",
     "output_type": "stream",
     "text": [
      "val Epoch 15: 100%|██████████| 6/6 [00:00<00:00, 10.40it/s, loss=3.48] \n"
     ]
    },
    {
     "name": "stdout",
     "output_type": "stream",
     "text": [
      "Val Loss: 2.3184 | Accuracy: 32.30%\n",
      "Model saved to D:\\aml_final\\Assignment5\\model_pth\\resnet18_model.pth\n",
      "\n",
      "Epoch 16/20\n"
     ]
    },
    {
     "name": "stderr",
     "output_type": "stream",
     "text": [
      "train Epoch 16: 100%|██████████| 9/9 [00:01<00:00,  6.30it/s, loss=0.128]\n"
     ]
    },
    {
     "name": "stdout",
     "output_type": "stream",
     "text": [
      "Train Loss: 0.1332 | Accuracy: 100.00%\n",
      "Model saved to D:\\aml_final\\Assignment5\\model_pth\\resnet18_model.pth\n"
     ]
    },
    {
     "name": "stderr",
     "output_type": "stream",
     "text": [
      "val Epoch 16: 100%|██████████| 6/6 [00:00<00:00, 10.80it/s, loss=3.58] \n"
     ]
    },
    {
     "name": "stdout",
     "output_type": "stream",
     "text": [
      "Val Loss: 2.4652 | Accuracy: 32.30%\n",
      "Model saved to D:\\aml_final\\Assignment5\\model_pth\\resnet18_model.pth\n",
      "\n",
      "Epoch 17/20\n"
     ]
    },
    {
     "name": "stderr",
     "output_type": "stream",
     "text": [
      "train Epoch 17: 100%|██████████| 9/9 [00:01<00:00,  6.13it/s, loss=0.118]\n"
     ]
    },
    {
     "name": "stdout",
     "output_type": "stream",
     "text": [
      "Train Loss: 0.1214 | Accuracy: 100.00%\n",
      "Model saved to D:\\aml_final\\Assignment5\\model_pth\\resnet18_model.pth\n"
     ]
    },
    {
     "name": "stderr",
     "output_type": "stream",
     "text": [
      "val Epoch 17: 100%|██████████| 6/6 [00:00<00:00, 10.53it/s, loss=3.66] \n"
     ]
    },
    {
     "name": "stdout",
     "output_type": "stream",
     "text": [
      "Val Loss: 2.4899 | Accuracy: 32.30%\n",
      "Model saved to D:\\aml_final\\Assignment5\\model_pth\\resnet18_model.pth\n",
      "\n",
      "Epoch 18/20\n"
     ]
    },
    {
     "name": "stderr",
     "output_type": "stream",
     "text": [
      "train Epoch 18: 100%|██████████| 9/9 [00:01<00:00,  6.41it/s, loss=0.109]\n"
     ]
    },
    {
     "name": "stdout",
     "output_type": "stream",
     "text": [
      "Train Loss: 0.1109 | Accuracy: 100.00%\n",
      "Model saved to D:\\aml_final\\Assignment5\\model_pth\\resnet18_model.pth\n"
     ]
    },
    {
     "name": "stderr",
     "output_type": "stream",
     "text": [
      "val Epoch 18: 100%|██████████| 6/6 [00:00<00:00, 10.49it/s, loss=3.77] \n"
     ]
    },
    {
     "name": "stdout",
     "output_type": "stream",
     "text": [
      "Val Loss: 2.4714 | Accuracy: 32.30%\n",
      "Model saved to D:\\aml_final\\Assignment5\\model_pth\\resnet18_model.pth\n",
      "\n",
      "Epoch 19/20\n"
     ]
    },
    {
     "name": "stderr",
     "output_type": "stream",
     "text": [
      "train Epoch 19: 100%|██████████| 9/9 [00:01<00:00,  6.40it/s, loss=0.0964]\n"
     ]
    },
    {
     "name": "stdout",
     "output_type": "stream",
     "text": [
      "Train Loss: 0.1012 | Accuracy: 100.00%\n",
      "Model saved to D:\\aml_final\\Assignment5\\model_pth\\resnet18_model.pth\n"
     ]
    },
    {
     "name": "stderr",
     "output_type": "stream",
     "text": [
      "val Epoch 19: 100%|██████████| 6/6 [00:00<00:00, 10.53it/s, loss=3.9]  \n"
     ]
    },
    {
     "name": "stdout",
     "output_type": "stream",
     "text": [
      "Val Loss: 2.5283 | Accuracy: 32.30%\n",
      "Model saved to D:\\aml_final\\Assignment5\\model_pth\\resnet18_model.pth\n",
      "\n",
      "Epoch 20/20\n"
     ]
    },
    {
     "name": "stderr",
     "output_type": "stream",
     "text": [
      "train Epoch 20: 100%|██████████| 9/9 [00:01<00:00,  6.20it/s, loss=0.0886]\n"
     ]
    },
    {
     "name": "stdout",
     "output_type": "stream",
     "text": [
      "Train Loss: 0.0943 | Accuracy: 100.00%\n",
      "Model saved to D:\\aml_final\\Assignment5\\model_pth\\resnet18_model.pth\n"
     ]
    },
    {
     "name": "stderr",
     "output_type": "stream",
     "text": [
      "val Epoch 20: 100%|██████████| 6/6 [00:00<00:00,  9.81it/s, loss=3.97] \n"
     ]
    },
    {
     "name": "stdout",
     "output_type": "stream",
     "text": [
      "Val Loss: 2.6301 | Accuracy: 32.30%\n",
      "Model saved to D:\\aml_final\\Assignment5\\model_pth\\resnet18_model.pth\n"
     ]
    }
   ],
   "source": [
    "# -------------------- Main Training Script --------------------\n",
    "if __name__ == \"__main__\":\n",
    "    data_dir = r\"D:\\aml_final\\Assignment5\\dataset\"\n",
    "    save_path = r\"D:\\aml_final\\Assignment5\\model_pth\\resnet18_model.pth\"\n",
    "\n",
    "    device = torch.device(\"cuda\" if torch.cuda.is_available() else \"cpu\")\n",
    "\n",
    "    dataloaders, class_names = main_loaders(data_dir, batch_size=32)\n",
    "    num_classes = len(class_names)\n",
    "\n",
    "    # Load randomly initialized ResNet-18 to avoid good pretrained weights\n",
    "    model = models.resnet18(weights=None)\n",
    "    model.fc = nn.Linear(model.fc.in_features, num_classes)\n",
    "    model = model.to(device)\n",
    "\n",
    "    # Define loss and optimizer with HIGH learning rate to promote instability\n",
    "    criterion = nn.CrossEntropyLoss()\n",
    "    optimizer = optim.Adam(model.parameters(), lr=1e-5)  \n",
    "\n",
    "    num_epochs = 20\n",
    "    losses = {'train': [], 'val': []}\n",
    "    accuracies = {'train': [], 'val': []}\n",
    "    best_val_loss = float('inf')\n",
    "\n",
    "    for epoch in range(num_epochs):\n",
    "        print(f\"\\nEpoch {epoch+1}/{num_epochs}\")\n",
    "\n",
    "        for split in ['train', 'val']:\n",
    "            model.train() if split == 'train' else model.eval()\n",
    "            running_loss = 0.0\n",
    "            corrects = 0\n",
    "\n",
    "            progress_bar = tqdm(dataloaders[split], desc=f\"{split} Epoch {epoch+1}\")\n",
    "            for inputs, labels in progress_bar:\n",
    "                inputs, labels = inputs.to(device), labels.to(device)\n",
    "                optimizer.zero_grad()\n",
    "\n",
    "                if split == 'train':\n",
    "                    labels = labels[torch.randperm(labels.size(0))]\n",
    "\n",
    "                with torch.set_grad_enabled(split == 'train'):\n",
    "                    outputs = model(inputs)\n",
    "                    loss = criterion(outputs, labels)\n",
    "                    preds = torch.argmax(outputs, dim=1)\n",
    "\n",
    "                    if split == 'train':\n",
    "                        loss.backward()\n",
    "                        optimizer.step()\n",
    "\n",
    "                running_loss += loss.item() * inputs.size(0)\n",
    "                corrects += torch.sum(preds == labels.data).item()\n",
    "                progress_bar.set_postfix(loss=loss.item())\n",
    "\n",
    "            epoch_loss = running_loss / len(dataloaders[split].dataset)\n",
    "            epoch_acc = corrects / len(dataloaders[split].dataset)\n",
    "            losses[split].append(epoch_loss)\n",
    "            accuracies[split].append(epoch_acc)\n",
    "\n",
    "            print(f\"{split.capitalize()} Loss: {epoch_loss:.4f} | Accuracy: {epoch_acc:.2%}\")\n",
    "  # Save the model after each epoch\n",
    "            torch.save(model.state_dict(), save_path)\n",
    "            print(f\"Model saved to {save_path}\")\n",
    "                "
   ]
  },
  {
   "cell_type": "markdown",
   "id": "8262697f",
   "metadata": {},
   "source": [
    "### Visualisation"
   ]
  },
  {
   "cell_type": "code",
   "execution_count": 11,
   "id": "c825348c",
   "metadata": {},
   "outputs": [
    {
     "data": {
      "image/png": "[encoded data removed]",
      "text/plain": [
       "<Figure size 1200x500 with 2 Axes>"
      ]
     },
     "metadata": {},
     "output_type": "display_data"
    }
   ],
   "source": [
    "plt.figure(figsize=(12, 5))\n",
    "\n",
    "# Loss Plot\n",
    "plt.subplot(1, 2, 1)\n",
    "plt.plot(range(1, num_epochs + 1), losses['train'], label='Train Loss', marker='o')\n",
    "plt.plot(range(1, num_epochs + 1), losses['val'], label='Validation Loss', marker='o')\n",
    "plt.xticks(range(1, num_epochs + 1))\n",
    "plt.xlabel('Epochs')\n",
    "plt.ylabel('Loss')\n",
    "plt.title('Training & Validation Loss')\n",
    "plt.legend()\n",
    "\n",
    "# Accuracy Plot\n",
    "plt.subplot(1, 2, 2)\n",
    "plt.plot(range(1, num_epochs + 1), accuracies['train'], label='Train Accuracy', marker='o')\n",
    "plt.plot(range(1, num_epochs + 1), accuracies['val'], label='Validation Accuracy', marker='o')\n",
    "plt.xticks(range(1, num_epochs + 1))\n",
    "plt.xlabel('Epochs')\n",
    "plt.ylabel('Accuracy')\n",
    "plt.title('Training & Validation Accuracy')\n",
    "plt.legend()\n",
    "\n",
    "plt.tight_layout()\n",
    "plt.show()\n"
   ]
  },
  {
   "cell_type": "markdown",
   "id": "93486177",
   "metadata": {},
   "source": [
    "### Model testing"
   ]
  },
  {
   "cell_type": "code",
   "execution_count": null,
   "id": "4f02d769",
   "metadata": {},
   "outputs": [
    {
     "name": "stdout",
     "output_type": "stream",
     "text": [
      "Total Test Loss: 96.1414\n"
     ]
    }
   ],
   "source": [
    "# Loading the best model and testing on test dataset\n",
    "model.load_state_dict(torch.load(r\"D:\\aml_final\\Assignment5\\model_pth\\resnet18_model.pth\"))\n",
    "model.to(device)\n",
    "model.eval()\n",
    "\n",
    "test_loss = 0\n",
    "predictions = []\n",
    "labels = []\n",
    "with torch.no_grad():\n",
    "    for input_batch, labels_batch in dataloaders['test']:\n",
    "        input_batch, labels_batch = input_batch.to(device), labels_batch.to(device)\n",
    "        output = model(input_batch)\n",
    "    \n",
    "        loss = criterion(output, labels_batch)\n",
    "        preds = output.argmax(dim = 1)\n",
    "\n",
    "        test_loss += loss.item()\n",
    "        predictions.extend(preds.cpu().numpy())\n",
    "        labels.extend(labels_batch.cpu().numpy())\n",
    "\n",
    "print(f\"Total Test Loss: {test_loss:.4f}\")"
   ]
  }
 ],
 "metadata": {
  "kernelspec": {
   "display_name": "Python 3",
   "language": "python",
   "name": "python3"
  },
  "language_info": {
   "codemirror_mode": {
    "name": "ipython",
    "version": 3
   },
   "file_extension": ".py",
   "mimetype": "text/x-python",
   "name": "python",
   "nbconvert_exporter": "python",
   "pygments_lexer": "ipython3",
   "version": "3.12.4"
  }
 },
 "nbformat": 4,
 "nbformat_minor": 5
}
