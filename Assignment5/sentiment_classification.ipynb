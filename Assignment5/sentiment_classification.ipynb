{
 "cells": [
  {
   "cell_type": "markdown",
   "id": "79bddc56",
   "metadata": {},
   "source": [
    "# Submission by ATUL ANANT~MDS202314"
   ]
  },
  {
   "cell_type": "markdown",
   "id": "3d40817d",
   "metadata": {},
   "source": [
    "### Importing important packages and libraries"
   ]
  },
  {
   "cell_type": "code",
   "execution_count": null,
   "id": "a348b6ad",
   "metadata": {},
   "outputs": [
    {
     "data": {
      "text/plain": [
       "device(type='cuda')"
      ]
     },
     "execution_count": 2,
     "metadata": {},
     "output_type": "execute_result"
    }
   ],
   "source": [
    "import warnings\n",
    "warnings.filterwarnings(\"ignore\")\n",
    "import numpy as np\n",
    "import pandas as pd\n",
    "import matplotlib.pyplot as plt\n",
    "from tqdm import tqdm\n",
    "import torch\n",
    "import torch.nn as nn\n",
    "from torch.optim import AdamW\n",
    "from torch.utils.data import DataLoader, TensorDataset, RandomSampler, SequentialSampler\n",
    "device = torch.device(\"cuda\" if torch.cuda.is_available() else \"cpu\")\n",
    "from sklearn.model_selection import train_test_split\n",
    "from sklearn.metrics import classification_report\n",
    "from sklearn.utils import compute_class_weight\n",
    "from transformers import BertModel, BertTokenizerFast"
   ]
  },
  {
   "cell_type": "markdown",
   "id": "199bbdd9",
   "metadata": {},
   "source": [
    "### Reading text data using read_csv as data is stored in csv files here"
   ]
  },
  {
   "cell_type": "code",
   "execution_count": null,
   "id": "49cc455e",
   "metadata": {},
   "outputs": [
    {
     "data": {
      "text/html": [
       "<div>\n",
       "<style scoped>\n",
       "    .dataframe tbody tr th:only-of-type {\n",
       "        vertical-align: middle;\n",
       "    }\n",
       "\n",
       "    .dataframe tbody tr th {\n",
       "        vertical-align: top;\n",
       "    }\n",
       "\n",
       "    .dataframe thead th {\n",
       "        text-align: right;\n",
       "    }\n",
       "</style>\n",
       "<table border=\"1\" class=\"dataframe\">\n",
       "  <thead>\n",
       "    <tr style=\"text-align: right;\">\n",
       "      <th></th>\n",
       "      <th>text</th>\n",
       "      <th>sentiment</th>\n",
       "    </tr>\n",
       "  </thead>\n",
       "  <tbody>\n",
       "    <tr>\n",
       "      <th>0</th>\n",
       "      <td>I`d have responded, if I were going</td>\n",
       "      <td>neutral</td>\n",
       "    </tr>\n",
       "    <tr>\n",
       "      <th>1</th>\n",
       "      <td>Sooo SAD I will miss you here in San Diego!!!</td>\n",
       "      <td>negative</td>\n",
       "    </tr>\n",
       "    <tr>\n",
       "      <th>2</th>\n",
       "      <td>my boss is bullying me...</td>\n",
       "      <td>negative</td>\n",
       "    </tr>\n",
       "    <tr>\n",
       "      <th>3</th>\n",
       "      <td>what interview! leave me alone</td>\n",
       "      <td>negative</td>\n",
       "    </tr>\n",
       "    <tr>\n",
       "      <th>4</th>\n",
       "      <td>Sons of ****, why couldn`t they put them on t...</td>\n",
       "      <td>negative</td>\n",
       "    </tr>\n",
       "  </tbody>\n",
       "</table>\n",
       "</div>"
      ],
      "text/plain": [
       "                                                text sentiment\n",
       "0                I`d have responded, if I were going   neutral\n",
       "1      Sooo SAD I will miss you here in San Diego!!!  negative\n",
       "2                          my boss is bullying me...  negative\n",
       "3                     what interview! leave me alone  negative\n",
       "4   Sons of ****, why couldn`t they put them on t...  negative"
      ]
     },
     "execution_count": 6,
     "metadata": {},
     "output_type": "execute_result"
    }
   ],
   "source": [
    "train_df = pd.read_csv(r\"D:\\aml_final\\Assignment5\\sentiment-analysis-dataset\\train.csv\", encoding=\"ISO-8859-1\")[['text', 'sentiment']]\n",
    "train_df.head()"
   ]
  },
  {
   "cell_type": "code",
   "execution_count": null,
   "id": "9eb4a801",
   "metadata": {},
   "outputs": [
    {
     "data": {
      "text/html": [
       "<div>\n",
       "<style scoped>\n",
       "    .dataframe tbody tr th:only-of-type {\n",
       "        vertical-align: middle;\n",
       "    }\n",
       "\n",
       "    .dataframe tbody tr th {\n",
       "        vertical-align: top;\n",
       "    }\n",
       "\n",
       "    .dataframe thead th {\n",
       "        text-align: right;\n",
       "    }\n",
       "</style>\n",
       "<table border=\"1\" class=\"dataframe\">\n",
       "  <thead>\n",
       "    <tr style=\"text-align: right;\">\n",
       "      <th></th>\n",
       "      <th>text</th>\n",
       "      <th>sentiment</th>\n",
       "    </tr>\n",
       "  </thead>\n",
       "  <tbody>\n",
       "    <tr>\n",
       "      <th>0</th>\n",
       "      <td>Last session of the day  http://twitpic.com/67ezh</td>\n",
       "      <td>neutral</td>\n",
       "    </tr>\n",
       "    <tr>\n",
       "      <th>1</th>\n",
       "      <td>Shanghai is also really exciting (precisely -...</td>\n",
       "      <td>positive</td>\n",
       "    </tr>\n",
       "    <tr>\n",
       "      <th>2</th>\n",
       "      <td>Recession hit Veronique Branquinho, she has to...</td>\n",
       "      <td>negative</td>\n",
       "    </tr>\n",
       "    <tr>\n",
       "      <th>3</th>\n",
       "      <td>happy bday!</td>\n",
       "      <td>positive</td>\n",
       "    </tr>\n",
       "    <tr>\n",
       "      <th>4</th>\n",
       "      <td>http://twitpic.com/4w75p - I like it!!</td>\n",
       "      <td>positive</td>\n",
       "    </tr>\n",
       "  </tbody>\n",
       "</table>\n",
       "</div>"
      ],
      "text/plain": [
       "                                                text sentiment\n",
       "0  Last session of the day  http://twitpic.com/67ezh   neutral\n",
       "1   Shanghai is also really exciting (precisely -...  positive\n",
       "2  Recession hit Veronique Branquinho, she has to...  negative\n",
       "3                                        happy bday!  positive\n",
       "4             http://twitpic.com/4w75p - I like it!!  positive"
      ]
     },
     "execution_count": 7,
     "metadata": {},
     "output_type": "execute_result"
    }
   ],
   "source": [
    "test_df = pd.read_csv(r\"D:\\aml_final\\Assignment5\\sentiment-analysis-dataset\\test.csv\", encoding=\"ISO-8859-1\")[['text', 'sentiment']]\n",
    "test_df.head()"
   ]
  },
  {
   "cell_type": "code",
   "execution_count": 8,
   "id": "cc10b111",
   "metadata": {},
   "outputs": [
    {
     "data": {
      "text/plain": [
       "array(['neutral', 'negative', 'positive'], dtype=object)"
      ]
     },
     "execution_count": 8,
     "metadata": {},
     "output_type": "execute_result"
    }
   ],
   "source": [
    "# Unique classes\n",
    "train_df['sentiment'].unique()"
   ]
  },
  {
   "cell_type": "code",
   "execution_count": 10,
   "id": "14e51934",
   "metadata": {},
   "outputs": [
    {
     "data": {
      "text/plain": [
       "(1, 1281)"
      ]
     },
     "execution_count": 10,
     "metadata": {},
     "output_type": "execute_result"
    }
   ],
   "source": [
    "# Check for missing values\n",
    "train_df['text'].isna().sum(), test_df['text'].isna().sum()"
   ]
  },
  {
   "cell_type": "code",
   "execution_count": 11,
   "id": "97ba10cf",
   "metadata": {},
   "outputs": [
    {
     "name": "stdout",
     "output_type": "stream",
     "text": [
      "21984 5496\n"
     ]
    }
   ],
   "source": [
    "# Remove missing values\n",
    "train_df.dropna(inplace=True)\n",
    "test_df.dropna(inplace=True)\n",
    "# Encode the labels\n",
    "label_encoding = {'neutral': 0, 'negative': 1, 'positive': 2}\n",
    "train_df.loc[:, 'label'] = train_df.loc[:, 'sentiment'].map(label_encoding)\n",
    "test_df.loc[:, 'label'] = test_df.loc[:, 'sentiment'].map(label_encoding)\n",
    "\n",
    "# Split the DataFrame (80% train, 20% validation)\n",
    "train_df, val_df = train_test_split(train_df, test_size=0.2, random_state=42)\n",
    "print(len(train_df), len(val_df))"
   ]
  },
  {
   "cell_type": "markdown",
   "id": "2888c7fb",
   "metadata": {},
   "source": [
    "## Loading BERT "
   ]
  },
  {
   "cell_type": "code",
   "execution_count": null,
   "id": "ea891fbb",
   "metadata": {},
   "outputs": [],
   "source": [
    "# Load the BERT tokenizer\n",
    "tokenizer = BertTokenizerFast.from_pretrained('bert-base-uncased')\n",
    "\n",
    "# Tokenize datasets\n",
    "datasets = {'train': train_df, 'val': val_df, 'test': test_df}\n",
    "tokens = {\n",
    "    split: tokenizer.batch_encode_plus(\n",
    "        df['text'].tolist(),\n",
    "        padding='longest',\n",
    "        max_length=25,\n",
    "        truncation=True\n",
    "    )\n",
    "    for split, df in datasets.items()\n",
    "}\n",
    "\n",
    "tokens_train, tokens_val, tokens_test = tokens['train'], tokens['val'], tokens['test']\n"
   ]
  },
  {
   "cell_type": "code",
   "execution_count": 13,
   "id": "4e0939b9",
   "metadata": {},
   "outputs": [
    {
     "data": {
      "text/plain": [
       "dict_keys(['input_ids', 'token_type_ids', 'attention_mask'])"
      ]
     },
     "execution_count": 13,
     "metadata": {},
     "output_type": "execute_result"
    }
   ],
   "source": [
    "tokens_train.keys()"
   ]
  },
  {
   "cell_type": "code",
   "execution_count": null,
   "id": "519c9b1a",
   "metadata": {},
   "outputs": [],
   "source": [
    "# Convert tokenized inputs and labels to tensors for train, val, test\n",
    "tensors = {}\n",
    "for split, df in zip(['train', 'val', 'test'], [train_df, val_df, test_df]):\n",
    "    tok = eval(f\"tokens_{split}\")\n",
    "    tensors[split] = {\n",
    "        'seq': torch.tensor(tok['input_ids']),\n",
    "        'mask': torch.tensor(tok['attention_mask']),\n",
    "        'y': torch.tensor(df['label'].tolist())\n",
    "    }\n",
    "\n",
    "train_seq, train_mask, train_y = tensors['train']['seq'], tensors['train']['mask'], tensors['train']['y']\n",
    "val_seq, val_mask, val_y = tensors['val']['seq'], tensors['val']['mask'], tensors['val']['y']\n",
    "test_seq, test_mask, test_y = tensors['test']['seq'], tensors['test']['mask'], tensors['test']['y']"
   ]
  },
  {
   "cell_type": "code",
   "execution_count": null,
   "id": "0d3161aa",
   "metadata": {},
   "outputs": [],
   "source": [
    "from torch.utils.data import TensorDataset, DataLoader, RandomSampler, SequentialSampler\n",
    "\n",
    "# Define batch size\n",
    "batch_size = 32\n",
    "\n",
    "# Create dataloaders for train, val, test\n",
    "dataloaders = {}\n",
    "for split, is_train in zip(['train', 'val', 'test'], [True, False, False]):\n",
    "    seq, mask, y = eval(f\"{split}_seq\"), eval(f\"{split}_mask\"), eval(f\"{split}_y\")\n",
    "    dataset = TensorDataset(seq, mask, y)\n",
    "    sampler = RandomSampler(dataset) if is_train else SequentialSampler(dataset)\n",
    "    dataloaders[f\"{split}_dataloader\"] = DataLoader(dataset, sampler=sampler, batch_size=batch_size)\n",
    "\n",
    "# Unpack if you still want individual variables\n",
    "train_dataloader = dataloaders['train_dataloader']\n",
    "val_dataloader = dataloaders['val_dataloader']\n",
    "test_dataloader = dataloaders['test_dataloader']\n"
   ]
  },
  {
   "cell_type": "code",
   "execution_count": 16,
   "id": "1ea35daf",
   "metadata": {},
   "outputs": [
    {
     "name": "stderr",
     "output_type": "stream",
     "text": [
      "Xet Storage is enabled for this repo, but the 'hf_xet' package is not installed. Falling back to regular HTTP download. For better performance, install the package with: `pip install huggingface_hub[hf_xet]` or `pip install hf_xet`\n"
     ]
    },
    {
     "data": {
      "application/vnd.jupyter.widget-view+json": {
       "model_id": "8319f7061da24873834ab667df580f54",
       "version_major": 2,
       "version_minor": 0
      },
      "text/plain": [
       "model.safetensors:   0%|          | 0.00/440M [00:00<?, ?B/s]"
      ]
     },
     "metadata": {},
     "output_type": "display_data"
    }
   ],
   "source": [
    "# import BERT-base pretrained model\n",
    "bert = BertModel.from_pretrained('bert-base-uncased')"
   ]
  },
  {
   "cell_type": "markdown",
   "id": "2e35f23a",
   "metadata": {},
   "source": [
    "## My BERT class for smooth handling of use cases!"
   ]
  },
  {
   "cell_type": "code",
   "execution_count": 19,
   "id": "e8857cac",
   "metadata": {},
   "outputs": [],
   "source": [
    "class BERTModel(nn.Module):\n",
    "    def __init__(self, bert):\n",
    "        super(BERTModel, self).__init__()\n",
    "        for layer in list(bert.children())[:-1]:\n",
    "            for parameter in layer.parameters():\n",
    "                parameter.requires_grad = False\n",
    "        bert.pooler.dense = nn.Linear(in_features=768, out_features=len(label_encoding), bias=True)\n",
    "        self.bert = bert\n",
    "        self.softmax = nn.LogSoftmax(dim=1)\n",
    "        \n",
    "    def forward(self, sent_id, mask):\n",
    "        out = self.bert(sent_id, attention_mask=mask)\n",
    "        x = self.softmax(out.pooler_output)\n",
    "        return x\n",
    "\n",
    "model = BERTModel(bert)\n",
    "model = model.to(device)"
   ]
  },
  {
   "cell_type": "code",
   "execution_count": null,
   "id": "cfc54dbd",
   "metadata": {},
   "outputs": [],
   "source": [
    "class_weights = compute_class_weight('balanced', classes=np.unique(train_y.numpy()), y=train_y.numpy())"
   ]
  },
  {
   "cell_type": "code",
   "execution_count": 24,
   "id": "7d4bdae2",
   "metadata": {},
   "outputs": [],
   "source": [
    "# converting list of class weights to a tensor\n",
    "weights= torch.tensor(class_weights,dtype=torch.float)\n",
    "weights = weights.to(device)\n",
    "cross_entropy  = nn.NLLLoss(weight=weights) \n",
    "\n",
    "# define the optimizer\n",
    "optimizer = AdamW(model.parameters(), lr=5e-4)\n",
    "# number of training epochs\n",
    "epochs = 30"
   ]
  },
  {
   "cell_type": "markdown",
   "id": "5471d78a",
   "metadata": {},
   "source": [
    "### Training"
   ]
  },
  {
   "cell_type": "code",
   "execution_count": 22,
   "id": "9e5d02e8",
   "metadata": {},
   "outputs": [],
   "source": [
    "def train():\n",
    "    model.train()\n",
    "    total_loss = 0\n",
    "    total_preds = []\n",
    "\n",
    "    progress_bar = tqdm(train_dataloader, desc=\"Training\")\n",
    "    for batch in progress_bar:\n",
    "        # Push batch to GPU\n",
    "        batch = [r.to(device) for r in batch]\n",
    "        sent_id, mask, labels = batch\n",
    "\n",
    "        # Clear previously calculated gradients\n",
    "        model.zero_grad()\n",
    "\n",
    "        # Get model predictions for the current batch\n",
    "        preds = model(sent_id, mask)\n",
    "\n",
    "        # Compute the loss\n",
    "        loss = cross_entropy(preds, labels)\n",
    "        total_loss += loss.item()\n",
    "\n",
    "        # Backward pass\n",
    "        loss.backward()\n",
    "\n",
    "        # Clip gradients to prevent exploding gradient problem\n",
    "        torch.nn.utils.clip_grad_norm_(model.parameters(), 1.0)\n",
    "\n",
    "        # Update parameters\n",
    "        optimizer.step()\n",
    "\n",
    "        # Move predictions to CPU and store them\n",
    "        preds = preds.detach().cpu().numpy()\n",
    "        total_preds.append(preds)\n",
    "\n",
    "        # Update tqdm progress bar with loss\n",
    "        progress_bar.set_postfix(loss=loss.item())\n",
    "\n",
    "    # Compute the average loss\n",
    "    avg_loss = total_loss / len(train_dataloader)\n",
    "\n",
    "    # Reshape predictions (no. of samples, no. of classes)\n",
    "    total_preds = np.concatenate(total_preds, axis=0)\n",
    "\n",
    "    return avg_loss, total_preds"
   ]
  },
  {
   "cell_type": "markdown",
   "id": "1f648f57",
   "metadata": {},
   "source": [
    "### Model evaluation definitions"
   ]
  },
  {
   "cell_type": "code",
   "execution_count": 23,
   "id": "8a0f1b79",
   "metadata": {},
   "outputs": [],
   "source": [
    "def evaluate():\n",
    "    # Deactivate dropout layers\n",
    "    model.eval()\n",
    "    \n",
    "    total_loss = 0\n",
    "    total_preds = []\n",
    "\n",
    "    # Wrap val_dataloader with tqdm for progress tracking\n",
    "    progress_bar = tqdm(val_dataloader, desc=\"Evaluating\", leave=True)\n",
    "\n",
    "    for batch in progress_bar:\n",
    "        # Push batch to GPU\n",
    "        batch = [t.to(device) for t in batch]\n",
    "        sent_id, mask, labels = batch\n",
    "\n",
    "        # Deactivate autograd\n",
    "        with torch.no_grad():\n",
    "            # Get model predictions\n",
    "            preds = model(sent_id, mask)\n",
    "\n",
    "            # Compute validation loss\n",
    "            loss = cross_entropy(preds, labels)\n",
    "            total_loss += loss.item()\n",
    "\n",
    "            # Move predictions to CPU and store them\n",
    "            preds = preds.detach().cpu().numpy()\n",
    "            total_preds.append(preds)\n",
    "\n",
    "            # Update tqdm progress bar with loss\n",
    "            progress_bar.set_postfix(loss=loss.item())\n",
    "\n",
    "    # Compute the average validation loss\n",
    "    avg_loss = total_loss / len(val_dataloader)\n",
    "\n",
    "    # Reshape predictions (no. of samples, no. of classes)\n",
    "    total_preds = np.concatenate(total_preds, axis=0)\n",
    "\n",
    "    return avg_loss, total_preds"
   ]
  },
  {
   "cell_type": "markdown",
   "id": "c3868e88",
   "metadata": {},
   "source": [
    "### Training logic"
   ]
  },
  {
   "cell_type": "code",
   "execution_count": 27,
   "id": "8cb79921",
   "metadata": {},
   "outputs": [
    {
     "name": "stdout",
     "output_type": "stream",
     "text": [
      "\n",
      "Epoch 1/30\n"
     ]
    },
    {
     "name": "stderr",
     "output_type": "stream",
     "text": [
      "Training: 100%|██████████| 687/687 [00:25<00:00, 26.69it/s, loss=0.749]\n",
      "Evaluating: 100%|██████████| 172/172 [00:06<00:00, 28.54it/s, loss=0.868]\n"
     ]
    },
    {
     "name": "stdout",
     "output_type": "stream",
     "text": [
      "Training Loss: 0.842 | Validation Loss: 0.819\n",
      "\n",
      "Epoch 2/30\n"
     ]
    },
    {
     "name": "stderr",
     "output_type": "stream",
     "text": [
      "Training: 100%|██████████| 687/687 [00:25<00:00, 26.79it/s, loss=0.944]\n",
      "Evaluating: 100%|██████████| 172/172 [00:06<00:00, 28.00it/s, loss=0.912]\n"
     ]
    },
    {
     "name": "stdout",
     "output_type": "stream",
     "text": [
      "Training Loss: 0.833 | Validation Loss: 0.808\n",
      "\n",
      "Epoch 3/30\n"
     ]
    },
    {
     "name": "stderr",
     "output_type": "stream",
     "text": [
      "Training: 100%|██████████| 687/687 [00:25<00:00, 26.71it/s, loss=0.742]\n",
      "Evaluating: 100%|██████████| 172/172 [00:06<00:00, 27.53it/s, loss=0.962]\n"
     ]
    },
    {
     "name": "stdout",
     "output_type": "stream",
     "text": [
      "Training Loss: 0.828 | Validation Loss: 0.816\n",
      "\n",
      "Epoch 4/30\n"
     ]
    },
    {
     "name": "stderr",
     "output_type": "stream",
     "text": [
      "Training: 100%|██████████| 687/687 [00:25<00:00, 26.51it/s, loss=0.769]\n",
      "Evaluating: 100%|██████████| 172/172 [00:06<00:00, 27.90it/s, loss=0.916]\n"
     ]
    },
    {
     "name": "stdout",
     "output_type": "stream",
     "text": [
      "Training Loss: 0.824 | Validation Loss: 0.803\n",
      "\n",
      "Epoch 5/30\n"
     ]
    },
    {
     "name": "stderr",
     "output_type": "stream",
     "text": [
      "Training: 100%|██████████| 687/687 [00:26<00:00, 26.25it/s, loss=0.882]\n",
      "Evaluating: 100%|██████████| 172/172 [00:06<00:00, 27.13it/s, loss=0.918]\n"
     ]
    },
    {
     "name": "stdout",
     "output_type": "stream",
     "text": [
      "Training Loss: 0.819 | Validation Loss: 0.799\n",
      "\n",
      "Epoch 6/30\n"
     ]
    },
    {
     "name": "stderr",
     "output_type": "stream",
     "text": [
      "Training: 100%|██████████| 687/687 [00:27<00:00, 25.23it/s, loss=0.839]\n",
      "Evaluating: 100%|██████████| 172/172 [00:06<00:00, 26.64it/s, loss=0.911]\n"
     ]
    },
    {
     "name": "stdout",
     "output_type": "stream",
     "text": [
      "Training Loss: 0.819 | Validation Loss: 0.796\n",
      "\n",
      "Epoch 7/30\n"
     ]
    },
    {
     "name": "stderr",
     "output_type": "stream",
     "text": [
      "Training: 100%|██████████| 687/687 [00:27<00:00, 24.87it/s, loss=0.934]\n",
      "Evaluating: 100%|██████████| 172/172 [00:06<00:00, 26.30it/s, loss=0.929]\n"
     ]
    },
    {
     "name": "stdout",
     "output_type": "stream",
     "text": [
      "Training Loss: 0.816 | Validation Loss: 0.796\n",
      "\n",
      "Epoch 8/30\n"
     ]
    },
    {
     "name": "stderr",
     "output_type": "stream",
     "text": [
      "Training: 100%|██████████| 687/687 [00:27<00:00, 24.78it/s, loss=0.802]\n",
      "Evaluating: 100%|██████████| 172/172 [00:06<00:00, 25.15it/s, loss=0.879]\n"
     ]
    },
    {
     "name": "stdout",
     "output_type": "stream",
     "text": [
      "Training Loss: 0.816 | Validation Loss: 0.793\n",
      "\n",
      "Epoch 9/30\n"
     ]
    },
    {
     "name": "stderr",
     "output_type": "stream",
     "text": [
      "Training: 100%|██████████| 687/687 [00:28<00:00, 24.38it/s, loss=0.672]\n",
      "Evaluating: 100%|██████████| 172/172 [00:06<00:00, 25.02it/s, loss=0.904]\n"
     ]
    },
    {
     "name": "stdout",
     "output_type": "stream",
     "text": [
      "Training Loss: 0.811 | Validation Loss: 0.789\n",
      "\n",
      "Epoch 10/30\n"
     ]
    },
    {
     "name": "stderr",
     "output_type": "stream",
     "text": [
      "Training: 100%|██████████| 687/687 [00:28<00:00, 24.04it/s, loss=0.64] \n",
      "Evaluating: 100%|██████████| 172/172 [00:06<00:00, 25.06it/s, loss=0.903]\n"
     ]
    },
    {
     "name": "stdout",
     "output_type": "stream",
     "text": [
      "Training Loss: 0.811 | Validation Loss: 0.787\n",
      "\n",
      "Epoch 11/30\n"
     ]
    },
    {
     "name": "stderr",
     "output_type": "stream",
     "text": [
      "Training: 100%|██████████| 687/687 [00:28<00:00, 23.90it/s, loss=0.864]\n",
      "Evaluating: 100%|██████████| 172/172 [00:06<00:00, 24.80it/s, loss=0.913]\n"
     ]
    },
    {
     "name": "stdout",
     "output_type": "stream",
     "text": [
      "Training Loss: 0.813 | Validation Loss: 0.790\n",
      "\n",
      "Epoch 12/30\n"
     ]
    },
    {
     "name": "stderr",
     "output_type": "stream",
     "text": [
      "Training: 100%|██████████| 687/687 [00:29<00:00, 23.68it/s, loss=0.731]\n",
      "Evaluating: 100%|██████████| 172/172 [00:07<00:00, 24.39it/s, loss=0.939]\n"
     ]
    },
    {
     "name": "stdout",
     "output_type": "stream",
     "text": [
      "Training Loss: 0.810 | Validation Loss: 0.797\n",
      "\n",
      "Epoch 13/30\n"
     ]
    },
    {
     "name": "stderr",
     "output_type": "stream",
     "text": [
      "Training: 100%|██████████| 687/687 [00:29<00:00, 23.30it/s, loss=0.728]\n",
      "Evaluating: 100%|██████████| 172/172 [00:07<00:00, 24.11it/s, loss=0.927]\n"
     ]
    },
    {
     "name": "stdout",
     "output_type": "stream",
     "text": [
      "Training Loss: 0.811 | Validation Loss: 0.792\n",
      "\n",
      "Epoch 14/30\n"
     ]
    },
    {
     "name": "stderr",
     "output_type": "stream",
     "text": [
      "Training: 100%|██████████| 687/687 [00:29<00:00, 23.06it/s, loss=0.843]\n",
      "Evaluating: 100%|██████████| 172/172 [00:07<00:00, 24.04it/s, loss=0.904]\n"
     ]
    },
    {
     "name": "stdout",
     "output_type": "stream",
     "text": [
      "Training Loss: 0.807 | Validation Loss: 0.786\n",
      "\n",
      "Epoch 15/30\n"
     ]
    },
    {
     "name": "stderr",
     "output_type": "stream",
     "text": [
      "Training: 100%|██████████| 687/687 [00:29<00:00, 23.11it/s, loss=0.789]\n",
      "Evaluating: 100%|██████████| 172/172 [00:07<00:00, 24.12it/s, loss=0.926]\n"
     ]
    },
    {
     "name": "stdout",
     "output_type": "stream",
     "text": [
      "Training Loss: 0.807 | Validation Loss: 0.790\n",
      "\n",
      "Epoch 16/30\n"
     ]
    },
    {
     "name": "stderr",
     "output_type": "stream",
     "text": [
      "Training: 100%|██████████| 687/687 [00:29<00:00, 23.19it/s, loss=0.878]\n",
      "Evaluating: 100%|██████████| 172/172 [00:07<00:00, 24.05it/s, loss=0.954]\n"
     ]
    },
    {
     "name": "stdout",
     "output_type": "stream",
     "text": [
      "Training Loss: 0.808 | Validation Loss: 0.799\n",
      "\n",
      "Epoch 17/30\n"
     ]
    },
    {
     "name": "stderr",
     "output_type": "stream",
     "text": [
      "Training: 100%|██████████| 687/687 [00:29<00:00, 23.15it/s, loss=0.926]\n",
      "Evaluating: 100%|██████████| 172/172 [00:07<00:00, 24.13it/s, loss=0.933]\n"
     ]
    },
    {
     "name": "stdout",
     "output_type": "stream",
     "text": [
      "Training Loss: 0.804 | Validation Loss: 0.788\n",
      "\n",
      "Epoch 18/30\n"
     ]
    },
    {
     "name": "stderr",
     "output_type": "stream",
     "text": [
      "Training: 100%|██████████| 687/687 [00:29<00:00, 23.03it/s, loss=0.925]\n",
      "Evaluating: 100%|██████████| 172/172 [00:07<00:00, 23.81it/s, loss=0.914]\n"
     ]
    },
    {
     "name": "stdout",
     "output_type": "stream",
     "text": [
      "Training Loss: 0.805 | Validation Loss: 0.786\n",
      "\n",
      "Epoch 19/30\n"
     ]
    },
    {
     "name": "stderr",
     "output_type": "stream",
     "text": [
      "Training: 100%|██████████| 687/687 [00:29<00:00, 23.09it/s, loss=0.998]\n",
      "Evaluating: 100%|██████████| 172/172 [00:07<00:00, 23.88it/s, loss=0.891]\n"
     ]
    },
    {
     "name": "stdout",
     "output_type": "stream",
     "text": [
      "Training Loss: 0.804 | Validation Loss: 0.787\n",
      "\n",
      "Epoch 20/30\n"
     ]
    },
    {
     "name": "stderr",
     "output_type": "stream",
     "text": [
      "Training: 100%|██████████| 687/687 [00:29<00:00, 23.01it/s, loss=0.988]\n",
      "Evaluating: 100%|██████████| 172/172 [00:07<00:00, 23.69it/s, loss=0.881]\n"
     ]
    },
    {
     "name": "stdout",
     "output_type": "stream",
     "text": [
      "Training Loss: 0.805 | Validation Loss: 0.786\n",
      "\n",
      "Epoch 21/30\n"
     ]
    },
    {
     "name": "stderr",
     "output_type": "stream",
     "text": [
      "Training: 100%|██████████| 687/687 [00:30<00:00, 22.87it/s, loss=0.732]\n",
      "Evaluating: 100%|██████████| 172/172 [00:07<00:00, 23.91it/s, loss=0.937]\n"
     ]
    },
    {
     "name": "stdout",
     "output_type": "stream",
     "text": [
      "Training Loss: 0.804 | Validation Loss: 0.799\n",
      "\n",
      "Epoch 22/30\n"
     ]
    },
    {
     "name": "stderr",
     "output_type": "stream",
     "text": [
      "Training: 100%|██████████| 687/687 [00:30<00:00, 22.86it/s, loss=0.699]\n",
      "Evaluating: 100%|██████████| 172/172 [00:07<00:00, 23.89it/s, loss=0.913]\n"
     ]
    },
    {
     "name": "stdout",
     "output_type": "stream",
     "text": [
      "Training Loss: 0.802 | Validation Loss: 0.784\n",
      "\n",
      "Epoch 23/30\n"
     ]
    },
    {
     "name": "stderr",
     "output_type": "stream",
     "text": [
      "Training: 100%|██████████| 687/687 [00:30<00:00, 22.87it/s, loss=0.649]\n",
      "Evaluating: 100%|██████████| 172/172 [00:07<00:00, 23.64it/s, loss=0.926]\n"
     ]
    },
    {
     "name": "stdout",
     "output_type": "stream",
     "text": [
      "Training Loss: 0.804 | Validation Loss: 0.787\n",
      "\n",
      "Epoch 24/30\n"
     ]
    },
    {
     "name": "stderr",
     "output_type": "stream",
     "text": [
      "Training: 100%|██████████| 687/687 [00:30<00:00, 22.87it/s, loss=0.776]\n",
      "Evaluating: 100%|██████████| 172/172 [00:07<00:00, 23.86it/s, loss=0.917]\n"
     ]
    },
    {
     "name": "stdout",
     "output_type": "stream",
     "text": [
      "Training Loss: 0.804 | Validation Loss: 0.787\n",
      "\n",
      "Epoch 25/30\n"
     ]
    },
    {
     "name": "stderr",
     "output_type": "stream",
     "text": [
      "Training: 100%|██████████| 687/687 [00:29<00:00, 22.95it/s, loss=0.869]\n",
      "Evaluating: 100%|██████████| 172/172 [00:07<00:00, 23.80it/s, loss=0.91] \n"
     ]
    },
    {
     "name": "stdout",
     "output_type": "stream",
     "text": [
      "Training Loss: 0.803 | Validation Loss: 0.782\n",
      "\n",
      "Epoch 26/30\n"
     ]
    },
    {
     "name": "stderr",
     "output_type": "stream",
     "text": [
      "Training: 100%|██████████| 687/687 [00:30<00:00, 22.89it/s, loss=0.803]\n",
      "Evaluating: 100%|██████████| 172/172 [00:07<00:00, 24.43it/s, loss=0.91] \n"
     ]
    },
    {
     "name": "stdout",
     "output_type": "stream",
     "text": [
      "Training Loss: 0.806 | Validation Loss: 0.782\n",
      "\n",
      "Epoch 27/30\n"
     ]
    },
    {
     "name": "stderr",
     "output_type": "stream",
     "text": [
      "Training: 100%|██████████| 687/687 [00:30<00:00, 22.80it/s, loss=0.749]\n",
      "Evaluating: 100%|██████████| 172/172 [00:07<00:00, 24.21it/s, loss=0.912]\n"
     ]
    },
    {
     "name": "stdout",
     "output_type": "stream",
     "text": [
      "Training Loss: 0.802 | Validation Loss: 0.782\n",
      "\n",
      "Epoch 28/30\n"
     ]
    },
    {
     "name": "stderr",
     "output_type": "stream",
     "text": [
      "Training: 100%|██████████| 687/687 [00:29<00:00, 23.07it/s, loss=0.914]\n",
      "Evaluating: 100%|██████████| 172/172 [00:07<00:00, 24.06it/s, loss=0.909]\n"
     ]
    },
    {
     "name": "stdout",
     "output_type": "stream",
     "text": [
      "Training Loss: 0.803 | Validation Loss: 0.781\n",
      "\n",
      "Epoch 29/30\n"
     ]
    },
    {
     "name": "stderr",
     "output_type": "stream",
     "text": [
      "Training: 100%|██████████| 687/687 [00:30<00:00, 22.77it/s, loss=0.745]\n",
      "Evaluating: 100%|██████████| 172/172 [00:07<00:00, 23.68it/s, loss=0.934]\n"
     ]
    },
    {
     "name": "stdout",
     "output_type": "stream",
     "text": [
      "Training Loss: 0.800 | Validation Loss: 0.791\n",
      "\n",
      "Epoch 30/30\n"
     ]
    },
    {
     "name": "stderr",
     "output_type": "stream",
     "text": [
      "Training: 100%|██████████| 687/687 [00:30<00:00, 22.80it/s, loss=0.72] \n",
      "Evaluating: 100%|██████████| 172/172 [00:07<00:00, 23.62it/s, loss=0.893]"
     ]
    },
    {
     "name": "stdout",
     "output_type": "stream",
     "text": [
      "Training Loss: 0.799 | Validation Loss: 0.783\n"
     ]
    },
    {
     "name": "stderr",
     "output_type": "stream",
     "text": [
      "\n"
     ]
    }
   ],
   "source": [
    "# Set initial best validation loss to infinite\n",
    "best_valid_loss = float('inf')\n",
    "\n",
    "# Lists to store training and validation loss of each epoch\n",
    "train_losses = []\n",
    "valid_losses = []\n",
    "\n",
    "# Training loop with tqdm progress bar\n",
    "for epoch in range(epochs):\n",
    "    print(f\"\\nEpoch {epoch + 1}/{epochs}\")\n",
    "\n",
    "    # Train model with progress tracking\n",
    "    train_loss, _ = train()\n",
    "\n",
    "    # Evaluate model with progress tracking\n",
    "    valid_loss, _ = evaluate()\n",
    "\n",
    "    # Save the best model\n",
    "    if valid_loss < best_valid_loss:\n",
    "        best_valid_loss = valid_loss\n",
    "        torch.save(model.state_dict(), r'D:\\aml_final\\Assignment5\\model_pth\\bert_model.pth')\n",
    "\n",
    "    # Append training and validation loss\n",
    "    train_losses.append(train_loss)\n",
    "    valid_losses.append(valid_loss)\n",
    "\n",
    "    # Display epoch summary with tqdm-style formatting\n",
    "    print(f\"Training Loss: {train_loss:.3f} | Validation Loss: {valid_loss:.3f}\")"
   ]
  },
  {
   "cell_type": "markdown",
   "id": "f47c0f0d",
   "metadata": {},
   "source": [
    "### Visualisation"
   ]
  },
  {
   "cell_type": "code",
   "execution_count": 28,
   "id": "08984650",
   "metadata": {},
   "outputs": [
    {
     "data": {
      "image/png": "[encoded data removed]",
      "text/plain": [
       "<Figure size 1000x500 with 1 Axes>"
      ]
     },
     "metadata": {},
     "output_type": "display_data"
    }
   ],
   "source": [
    "# Plotting the losses\n",
    "plt.figure(figsize=(10, 5))\n",
    "plt.plot(range(1, epochs + 1), train_losses, label='Train Loss', marker='o')\n",
    "plt.plot(range(1, epochs + 1), valid_losses, label='Validation Loss', marker='o')\n",
    "plt.xticks(range(1, epochs + 1))\n",
    "plt.xlabel('Epochs')\n",
    "plt.ylabel('Loss')\n",
    "plt.title('Training & Validation Loss')\n",
    "plt.legend()\n",
    "plt.show()"
   ]
  },
  {
   "cell_type": "markdown",
   "id": "de8eedce",
   "metadata": {},
   "source": [
    "### Model metrics summary with details"
   ]
  },
  {
   "cell_type": "code",
   "execution_count": 29,
   "id": "e02e5c3b",
   "metadata": {},
   "outputs": [
    {
     "name": "stdout",
     "output_type": "stream",
     "text": [
      "              precision    recall  f1-score   support\n",
      "\n",
      "           0       0.70      0.52      0.60      1430\n",
      "           1       0.60      0.78      0.67      1001\n",
      "           2       0.68      0.72      0.70      1103\n",
      "\n",
      "    accuracy                           0.66      3534\n",
      "   macro avg       0.66      0.67      0.66      3534\n",
      "weighted avg       0.66      0.66      0.65      3534\n",
      "\n"
     ]
    }
   ],
   "source": [
    "#load weights of best model\n",
    "path = r'D:\\aml_final\\Assignment5\\model_pth\\bert_model.pth'\n",
    "model.load_state_dict(torch.load(path))\n",
    "\n",
    "# get predictions for test data\n",
    "with torch.no_grad():\n",
    "  preds = model(test_seq.to(device), test_mask.to(device))\n",
    "  preds = preds.detach().cpu().numpy()\n",
    "\n",
    "preds = np.argmax(preds, axis = 1)\n",
    "print(classification_report(test_y, preds))"
   ]
  }
 ],
 "metadata": {
  "kernelspec": {
   "display_name": "Python 3",
   "language": "python",
   "name": "python3"
  },
  "language_info": {
   "codemirror_mode": {
    "name": "ipython",
    "version": 3
   },
   "file_extension": ".py",
   "mimetype": "text/x-python",
   "name": "python",
   "nbconvert_exporter": "python",
   "pygments_lexer": "ipython3",
   "version": "3.12.4"
  }
 },
 "nbformat": 4,
 "nbformat_minor": 5
}
